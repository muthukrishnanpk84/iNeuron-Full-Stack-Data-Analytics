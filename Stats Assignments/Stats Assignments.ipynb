{
 "cells": [
  {
   "cell_type": "code",
   "execution_count": 2,
   "id": "ddaaec66",
   "metadata": {},
   "outputs": [
    {
     "data": {
      "image/png": "[encoded data removed]",
      "text/plain": [
       "<Figure size 432x288 with 1 Axes>"
      ]
     },
     "metadata": {
      "needs_background": "light"
     },
     "output_type": "display_data"
    }
   ],
   "source": [
    "# Question 1\n",
    "\n",
    "import matplotlib.pyplot as plt\n",
    "\n",
    "x = [10, 13, 18, 22, 27, 32, 38, 40, 45, 51, 56, 57, 88, 90, 92, 94, 99]\n",
    "plt.hist(x,bins=5)\n",
    "plt.show()"
   ]
  },
  {
   "cell_type": "code",
   "execution_count": 3,
   "id": "d945a611",
   "metadata": {},
   "outputs": [
    {
     "ename": "SyntaxError",
     "evalue": "invalid syntax (<ipython-input-3-2a9d2c46808a>, line 3)",
     "output_type": "error",
     "traceback": [
      "\u001b[1;36m  File \u001b[1;32m\"<ipython-input-3-2a9d2c46808a>\"\u001b[1;36m, line \u001b[1;32m3\u001b[0m\n\u001b[1;33m    In a quant test of the CAT Exam, the population standard deviation is known to be 100.\u001b[0m\n\u001b[1;37m       ^\u001b[0m\n\u001b[1;31mSyntaxError\u001b[0m\u001b[1;31m:\u001b[0m invalid syntax\n"
     ]
    }
   ],
   "source": [
    "# Question 2\n",
    "\n",
    "In a quant test of the CAT Exam, the population standard deviation is known to be 100. \n",
    "A sample of 25 tests taken has a mean of 520. Construct an 80% CI about the mean.\n",
    "\n",
    "Standard deviation = 100\n",
    "\n",
    "Mean = 520\n",
    "\n",
    "Sample = 25\n",
    "\n",
    "80% CI=?\n",
    "\n",
    "Higher Fence= 545.64\n",
    "\n",
    "Lower Fence=494.36\n",
    "\n",
    "The mean of the Quant test of SAT exam is likely between marks (545.64 and 494.36)\n",
    "\n"
   ]
  },
  {
   "cell_type": "code",
   "execution_count": null,
   "id": "b8f7a0b5",
   "metadata": {},
   "outputs": [],
   "source": [
    "# Question 3\n",
    "\n",
    "A car believes that the percentage of citizens in city ABC that owns a vehicle is 60% or less. A sales manager disagrees with this. He conducted a hypothesis testing surveying 250 residents & found that 170 residents responded yes to owning a vehicle.\n",
    "State the null & alternate hypothesis.\n",
    "At a 10% significance level, is there enough evidence to support the idea that vehicle owner in ABC city is 60% or less.\n"
   ]
  },
  {
   "cell_type": "code",
   "execution_count": null,
   "id": "a6c9d767",
   "metadata": {},
   "outputs": [],
   "source": [
    "# Question 4\n",
    "\n",
    "What is the value of the 99 percentile?\n",
    "2,2,3,4,5,5,5,6,7,8,8,8,8,8,9,9,10,11,11,12\n",
    "\n",
    "Answer - 19.8"
   ]
  },
  {
   "cell_type": "code",
   "execution_count": 5,
   "id": "1c985977",
   "metadata": {},
   "outputs": [
    {
     "data": {
      "image/png": "[encoded data removed]",
      "text/plain": [
       "<Figure size 432x288 with 1 Axes>"
      ]
     },
     "metadata": {
      "needs_background": "light"
     },
     "output_type": "display_data"
    }
   ],
   "source": [
    "# Question 5\n",
    "\n",
    "x = [5, 3, 3, 6, 4, 3, 5, 4, 7, 3, 3, 5, 3, 6, 4, 3, 4,]\n",
    "plt.hist(x)\n",
    "plt.show()"
   ]
  },
  {
   "cell_type": "code",
   "execution_count": null,
   "id": "616f570a",
   "metadata": {},
   "outputs": [],
   "source": [
    " The relation between left skewed histogram mean, median, and mode is Mean < Median < Mode"
   ]
  },
  {
   "cell_type": "code",
   "execution_count": 6,
   "id": "d7a4da66",
   "metadata": {},
   "outputs": [
    {
     "data": {
      "image/png": "[encoded data removed]",
      "text/plain": [
       "<Figure size 432x288 with 1 Axes>"
      ]
     },
     "metadata": {
      "needs_background": "light"
     },
     "output_type": "display_data"
    }
   ],
   "source": [
    "x = [7, 4, 6, 7, 5, 7, 6, 3, 4, 7, 5, 6, 6, 7, 7, 5, 7]\n",
    "plt.hist(x)\n",
    "plt.show()"
   ]
  },
  {
   "cell_type": "code",
   "execution_count": null,
   "id": "0dcad6b6",
   "metadata": {},
   "outputs": [],
   "source": [
    " The relation between right skewed histogram mean, median, and mode is Mean > Median > Mode"
   ]
  }
 ],
 "metadata": {
  "kernelspec": {
   "display_name": "Python 3",
   "language": "python",
   "name": "python3"
  },
  "language_info": {
   "codemirror_mode": {
    "name": "ipython",
    "version": 3
   },
   "file_extension": ".py",
   "mimetype": "text/x-python",
   "name": "python",
   "nbconvert_exporter": "python",
   "pygments_lexer": "ipython3",
   "version": "3.8.8"
  }
 },
 "nbformat": 4,
 "nbformat_minor": 5
}
